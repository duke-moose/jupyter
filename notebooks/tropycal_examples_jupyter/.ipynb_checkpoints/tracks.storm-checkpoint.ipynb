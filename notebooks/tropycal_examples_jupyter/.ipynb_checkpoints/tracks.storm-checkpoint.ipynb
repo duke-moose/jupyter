{
 "cells": [
  {
   "cell_type": "code",
   "execution_count": 1,
   "metadata": {},
   "outputs": [],
   "source": [
    "%matplotlib inline"
   ]
  },
  {
   "cell_type": "markdown",
   "metadata": {},
   "source": [
    "\n",
    "# Individual Storm Analysis\n",
    "This sample script illustrates how to retrieve a single storm from the HURDAT2 dataset, and make plots and analyses of this storm.\n",
    "\n",
    "For documentation generation purposes, return_ax must be set True for plotting functions. You don't need to have this extra argument in every plotting function call (e.g., \"storm.plot(return_ax=True)\" will produce the same output as \"storm.plot()\").\n",
    "\n"
   ]
  },
  {
   "cell_type": "code",
   "execution_count": 2,
   "metadata": {},
   "outputs": [
    {
     "name": "stderr",
     "output_type": "stream",
     "text": [
      "/opt/conda/lib/python3.8/site-packages/tropycal-0.2.4-py3.8.egg/tropycal/plot/plot.py:16: UserWarning: Warning: Cartopy is not installed in your python environment. Plotting functions will not work.\n",
      "/opt/conda/lib/python3.8/site-packages/tropycal-0.2.4-py3.8.egg/tropycal/tracks/plot.py:25: UserWarning: Warning: Cartopy is not installed in your python environment. Plotting functions will not work.\n",
      "/opt/conda/lib/python3.8/site-packages/tropycal-0.2.4-py3.8.egg/tropycal/tornado/dataset.py:21: UserWarning: Warning: Cartopy is not installed in your python environment. Plotting functions will not work.\n",
      "/opt/conda/lib/python3.8/site-packages/tropycal-0.2.4-py3.8.egg/tropycal/tornado/plot.py:21: UserWarning: Warning: Cartopy is not installed in your python environment. Plotting functions will not work.\n",
      "/opt/conda/lib/python3.8/site-packages/tropycal-0.2.4-py3.8.egg/tropycal/recon/dataset.py:630: SyntaxWarning: \"is\" with a literal. Did you mean \"==\"?\n",
      "/opt/conda/lib/python3.8/site-packages/tropycal-0.2.4-py3.8.egg/tropycal/recon/dataset.py:630: SyntaxWarning: \"is\" with a literal. Did you mean \"==\"?\n",
      "/opt/conda/lib/python3.8/site-packages/tropycal-0.2.4-py3.8.egg/tropycal/recon/plot.py:22: UserWarning: Warning: Cartopy is not installed in your python environment. Plotting functions will not work.\n"
     ]
    }
   ],
   "source": [
    "import tropycal.tracks as tracks\n",
    "import datetime as dt"
   ]
  },
  {
   "cell_type": "markdown",
   "metadata": {},
   "source": [
    "## HURTDAT2 Dataset\n",
    "Let's start by creating an instance of a TrackDataset object. By default, this reads in the HURDAT2 dataset from the National Hurricane  Center (NHC) website. For this example we'll be using the HURDAT2 dataset over the North Atlantic basin.\n",
    "\n",
    "HURDAT data is not available for the most recent hurricane seasons. To include the latest data up through today, the \"include_btk\" flag  would need to be set to True, which reads in preliminary best track data from the NHC website.\n",
    "\n"
   ]
  },
  {
   "cell_type": "code",
   "execution_count": 3,
   "metadata": {},
   "outputs": [
    {
     "name": "stdout",
     "output_type": "stream",
     "text": [
      "--> Starting to read in HURDAT2 data\n",
      "--> Completed reading in HURDAT2 data (5.1 seconds)\n"
     ]
    }
   ],
   "source": [
    "hurdat_atl = tracks.TrackDataset(basin='north_atlantic',source='hurdat',include_btk=False)"
   ]
  },
  {
   "cell_type": "markdown",
   "metadata": {},
   "source": [
    "## Individual storm analysis\n",
    "Individual storms can be retrieved from the dataset by calling the ``get_storm()`` function, which returns an instance of a Storm object. This can be done by either entering a tuple containing the storm name and year, or by the standard tropical cyclone ID (e.g., \"AL012019\").\n",
    "\n",
    "Let's retrieve an instance of Hurricane Michael from 2018:\n",
    "\n"
   ]
  },
  {
   "cell_type": "code",
   "execution_count": 4,
   "metadata": {},
   "outputs": [],
   "source": [
    "storm = hurdat_atl.get_storm(('michael',2018))"
   ]
  },
  {
   "cell_type": "markdown",
   "metadata": {},
   "source": [
    "This instance of Storm contains several methods that return the storm data back in different data types. The following examples will show # how to retrieve 3 different data types.\n",
    "\n",
    "Retrieve a dictionary of Michael's data:\n",
    "\n"
   ]
  },
  {
   "cell_type": "code",
   "execution_count": 5,
   "metadata": {},
   "outputs": [
    {
     "name": "stdout",
     "output_type": "stream",
     "text": [
      "{'id': 'AL142018', 'operational_id': 'AL142018', 'name': 'MICHAEL', 'year': 2018, 'season': 2018, 'basin': 'north_atlantic', 'source_info': 'NHC Hurricane Database', 'source': 'hurdat', 'date': [datetime.datetime(2018, 10, 6, 18, 0), datetime.datetime(2018, 10, 7, 0, 0), datetime.datetime(2018, 10, 7, 6, 0), datetime.datetime(2018, 10, 7, 12, 0), datetime.datetime(2018, 10, 7, 18, 0), datetime.datetime(2018, 10, 8, 0, 0), datetime.datetime(2018, 10, 8, 6, 0), datetime.datetime(2018, 10, 8, 12, 0), datetime.datetime(2018, 10, 8, 18, 0), datetime.datetime(2018, 10, 9, 0, 0), datetime.datetime(2018, 10, 9, 6, 0), datetime.datetime(2018, 10, 9, 12, 0), datetime.datetime(2018, 10, 9, 18, 0), datetime.datetime(2018, 10, 10, 0, 0), datetime.datetime(2018, 10, 10, 6, 0), datetime.datetime(2018, 10, 10, 12, 0), datetime.datetime(2018, 10, 10, 17, 30), datetime.datetime(2018, 10, 10, 18, 0), datetime.datetime(2018, 10, 11, 0, 0), datetime.datetime(2018, 10, 11, 6, 0), datetime.datetime(2018, 10, 11, 12, 0), datetime.datetime(2018, 10, 11, 18, 0), datetime.datetime(2018, 10, 12, 0, 0), datetime.datetime(2018, 10, 12, 6, 0), datetime.datetime(2018, 10, 12, 12, 0), datetime.datetime(2018, 10, 12, 18, 0), datetime.datetime(2018, 10, 13, 0, 0), datetime.datetime(2018, 10, 13, 6, 0), datetime.datetime(2018, 10, 13, 12, 0), datetime.datetime(2018, 10, 13, 18, 0), datetime.datetime(2018, 10, 14, 0, 0), datetime.datetime(2018, 10, 14, 6, 0), datetime.datetime(2018, 10, 14, 12, 0), datetime.datetime(2018, 10, 14, 18, 0), datetime.datetime(2018, 10, 15, 0, 0), datetime.datetime(2018, 10, 15, 6, 0), datetime.datetime(2018, 10, 15, 12, 0), datetime.datetime(2018, 10, 15, 18, 0)], 'extra_obs': [0, 0, 0, 0, 0, 0, 0, 0, 0, 0, 0, 0, 0, 0, 0, 0, 1, 0, 0, 0, 0, 0, 0, 0, 0, 0, 0, 0, 0, 0, 0, 0, 0, 0, 0, 0, 0, 0], 'special': ['', '', '', '', '', '', '', '', '', '', '', '', '', '', '', '', 'L', '', '', '', '', '', '', '', '', '', '', '', '', '', '', '', '', '', '', '', '', ''], 'type': ['LO', 'LO', 'TD', 'TS', 'TS', 'TS', 'TS', 'HU', 'HU', 'HU', 'HU', 'HU', 'HU', 'HU', 'HU', 'HU', 'HU', 'HU', 'HU', 'TS', 'TS', 'TS', 'EX', 'EX', 'EX', 'EX', 'EX', 'EX', 'EX', 'EX', 'EX', 'EX', 'EX', 'EX', 'EX', 'EX', 'EX', 'EX'], 'lat': [17.8, 18.1, 18.4, 18.8, 19.1, 19.7, 20.2, 20.9, 21.7, 22.7, 23.7, 24.6, 25.6, 26.6, 27.7, 29.0, 30.0, 30.2, 31.5, 32.8, 34.1, 35.6, 36.5, 37.3, 39.1, 41.1, 43.1, 44.8, 46.4, 47.6, 48.4, 48.8, 48.6, 47.5, 45.9, 44.4, 42.8, 41.2], 'lon': [-86.6, -86.9, -86.8, -86.4, -85.7, -85.5, -85.4, -85.1, -85.1, -85.2, -85.8, -86.2, -86.4, -86.5, -86.6, -86.3, -85.5, -85.4, -84.5, -83.2, -81.7, -80.0, -77.7, -75.0, -70.6, -66.1, -61.5, -55.7, -48.2, -40.7, -33.1, -26.1, -20.7, -16.4, -13.5, -11.4, -10.3, -10.0], 'vmax': [25, 25, 30, 35, 45, 50, 60, 65, 75, 85, 85, 90, 100, 110, 120, 125, 140, 135, 80, 50, 45, 45, 50, 60, 60, 60, 65, 65, 65, 65, 65, 65, 60, 55, 55, 50, 35, 35], 'mslp': [1006, 1004, 1004, 1003, 999, 996, 984, 982, 977, 971, 973, 968, 961, 952, 945, 934, 919, 920, 957, 979, 987, 991, 988, 983, 980, 977, 975, 975, 975, 975, 975, 975, 975, 978, 982, 989, 996, 1001], 'wmo_basin': ['north_atlantic', 'north_atlantic', 'north_atlantic', 'north_atlantic', 'north_atlantic', 'north_atlantic', 'north_atlantic', 'north_atlantic', 'north_atlantic', 'north_atlantic', 'north_atlantic', 'north_atlantic', 'north_atlantic', 'north_atlantic', 'north_atlantic', 'north_atlantic', 'north_atlantic', 'north_atlantic', 'north_atlantic', 'north_atlantic', 'north_atlantic', 'north_atlantic', 'north_atlantic', 'north_atlantic', 'north_atlantic', 'north_atlantic', 'north_atlantic', 'north_atlantic', 'north_atlantic', 'north_atlantic', 'north_atlantic', 'north_atlantic', 'north_atlantic', 'north_atlantic', 'north_atlantic', 'north_atlantic', 'north_atlantic', 'north_atlantic'], 'ace': 12.505000000000003}\n"
     ]
    }
   ],
   "source": [
    "print(storm.to_dict())"
   ]
  },
  {
   "cell_type": "markdown",
   "metadata": {},
   "source": [
    "Retrieve xarray Dataset object with Michael's data:\n",
    "\n"
   ]
  },
  {
   "cell_type": "code",
   "execution_count": 6,
   "metadata": {},
   "outputs": [
    {
     "name": "stdout",
     "output_type": "stream",
     "text": [
      "<xarray.Dataset>\n",
      "Dimensions:    (time: 38)\n",
      "Coordinates:\n",
      "  * time       (time) datetime64[ns] 2018-10-06T18:00:00 ... 2018-10-15T18:00:00\n",
      "Data variables:\n",
      "    extra_obs  (time) int64 0 0 0 0 0 0 0 0 0 0 0 0 ... 0 0 0 0 0 0 0 0 0 0 0 0\n",
      "    special    (time) <U1 '' '' '' '' '' '' '' '' '' ... '' '' '' '' '' '' '' ''\n",
      "    type       (time) <U2 'LO' 'LO' 'TD' 'TS' 'TS' ... 'EX' 'EX' 'EX' 'EX' 'EX'\n",
      "    lat        (time) float64 17.8 18.1 18.4 18.8 19.1 ... 45.9 44.4 42.8 41.2\n",
      "    lon        (time) float64 -86.6 -86.9 -86.8 -86.4 ... -11.4 -10.3 -10.0\n",
      "    vmax       (time) int64 25 25 30 35 45 50 60 65 ... 65 65 60 55 55 50 35 35\n",
      "    mslp       (time) int64 1006 1004 1004 1003 999 996 ... 978 982 989 996 1001\n",
      "    wmo_basin  (time) <U14 'north_atlantic' ... 'north_atlantic'\n",
      "Attributes:\n",
      "    id:              AL142018\n",
      "    operational_id:  AL142018\n",
      "    name:            MICHAEL\n",
      "    year:            2018\n",
      "    season:          2018\n",
      "    basin:           north_atlantic\n",
      "    source_info:     NHC Hurricane Database\n",
      "    source:          hurdat\n",
      "    ace:             12.505000000000003\n"
     ]
    }
   ],
   "source": [
    "print(storm.to_xarray())"
   ]
  },
  {
   "cell_type": "markdown",
   "metadata": {},
   "source": [
    "Retrieve pandas DataFrame object with Michael's data:\n",
    "\n"
   ]
  },
  {
   "cell_type": "code",
   "execution_count": 7,
   "metadata": {},
   "outputs": [
    {
     "name": "stdout",
     "output_type": "stream",
     "text": [
      "                  date  extra_obs special type   lat   lon  vmax  mslp  \\\n",
      "0  2018-10-06 18:00:00          0           LO  17.8 -86.6    25  1006   \n",
      "1  2018-10-07 00:00:00          0           LO  18.1 -86.9    25  1004   \n",
      "2  2018-10-07 06:00:00          0           TD  18.4 -86.8    30  1004   \n",
      "3  2018-10-07 12:00:00          0           TS  18.8 -86.4    35  1003   \n",
      "4  2018-10-07 18:00:00          0           TS  19.1 -85.7    45   999   \n",
      "5  2018-10-08 00:00:00          0           TS  19.7 -85.5    50   996   \n",
      "6  2018-10-08 06:00:00          0           TS  20.2 -85.4    60   984   \n",
      "7  2018-10-08 12:00:00          0           HU  20.9 -85.1    65   982   \n",
      "8  2018-10-08 18:00:00          0           HU  21.7 -85.1    75   977   \n",
      "9  2018-10-09 00:00:00          0           HU  22.7 -85.2    85   971   \n",
      "10 2018-10-09 06:00:00          0           HU  23.7 -85.8    85   973   \n",
      "11 2018-10-09 12:00:00          0           HU  24.6 -86.2    90   968   \n",
      "12 2018-10-09 18:00:00          0           HU  25.6 -86.4   100   961   \n",
      "13 2018-10-10 00:00:00          0           HU  26.6 -86.5   110   952   \n",
      "14 2018-10-10 06:00:00          0           HU  27.7 -86.6   120   945   \n",
      "15 2018-10-10 12:00:00          0           HU  29.0 -86.3   125   934   \n",
      "16 2018-10-10 17:30:00          1       L   HU  30.0 -85.5   140   919   \n",
      "17 2018-10-10 18:00:00          0           HU  30.2 -85.4   135   920   \n",
      "18 2018-10-11 00:00:00          0           HU  31.5 -84.5    80   957   \n",
      "19 2018-10-11 06:00:00          0           TS  32.8 -83.2    50   979   \n",
      "20 2018-10-11 12:00:00          0           TS  34.1 -81.7    45   987   \n",
      "21 2018-10-11 18:00:00          0           TS  35.6 -80.0    45   991   \n",
      "22 2018-10-12 00:00:00          0           EX  36.5 -77.7    50   988   \n",
      "23 2018-10-12 06:00:00          0           EX  37.3 -75.0    60   983   \n",
      "24 2018-10-12 12:00:00          0           EX  39.1 -70.6    60   980   \n",
      "25 2018-10-12 18:00:00          0           EX  41.1 -66.1    60   977   \n",
      "26 2018-10-13 00:00:00          0           EX  43.1 -61.5    65   975   \n",
      "27 2018-10-13 06:00:00          0           EX  44.8 -55.7    65   975   \n",
      "28 2018-10-13 12:00:00          0           EX  46.4 -48.2    65   975   \n",
      "29 2018-10-13 18:00:00          0           EX  47.6 -40.7    65   975   \n",
      "30 2018-10-14 00:00:00          0           EX  48.4 -33.1    65   975   \n",
      "31 2018-10-14 06:00:00          0           EX  48.8 -26.1    65   975   \n",
      "32 2018-10-14 12:00:00          0           EX  48.6 -20.7    60   975   \n",
      "33 2018-10-14 18:00:00          0           EX  47.5 -16.4    55   978   \n",
      "34 2018-10-15 00:00:00          0           EX  45.9 -13.5    55   982   \n",
      "35 2018-10-15 06:00:00          0           EX  44.4 -11.4    50   989   \n",
      "36 2018-10-15 12:00:00          0           EX  42.8 -10.3    35   996   \n",
      "37 2018-10-15 18:00:00          0           EX  41.2 -10.0    35  1001   \n",
      "\n",
      "         wmo_basin  \n",
      "0   north_atlantic  \n",
      "1   north_atlantic  \n",
      "2   north_atlantic  \n",
      "3   north_atlantic  \n",
      "4   north_atlantic  \n",
      "5   north_atlantic  \n",
      "6   north_atlantic  \n",
      "7   north_atlantic  \n",
      "8   north_atlantic  \n",
      "9   north_atlantic  \n",
      "10  north_atlantic  \n",
      "11  north_atlantic  \n",
      "12  north_atlantic  \n",
      "13  north_atlantic  \n",
      "14  north_atlantic  \n",
      "15  north_atlantic  \n",
      "16  north_atlantic  \n",
      "17  north_atlantic  \n",
      "18  north_atlantic  \n",
      "19  north_atlantic  \n",
      "20  north_atlantic  \n",
      "21  north_atlantic  \n",
      "22  north_atlantic  \n",
      "23  north_atlantic  \n",
      "24  north_atlantic  \n",
      "25  north_atlantic  \n",
      "26  north_atlantic  \n",
      "27  north_atlantic  \n",
      "28  north_atlantic  \n",
      "29  north_atlantic  \n",
      "30  north_atlantic  \n",
      "31  north_atlantic  \n",
      "32  north_atlantic  \n",
      "33  north_atlantic  \n",
      "34  north_atlantic  \n",
      "35  north_atlantic  \n",
      "36  north_atlantic  \n",
      "37  north_atlantic  \n"
     ]
    }
   ],
   "source": [
    "print(storm.to_dataframe())"
   ]
  },
  {
   "cell_type": "markdown",
   "metadata": {},
   "source": [
    "Visualize Michael's observed track with the \"plot\" function:\n",
    "\n",
    "Note that you can pass various arguments to the plot function, such as customizing the map and track aspects. The only cartopy projection # currently offered is PlateCarree. Read through the documentation for more customization options.\n",
    "\n"
   ]
  },
  {
   "cell_type": "code",
   "execution_count": 8,
   "metadata": {},
   "outputs": [
    {
     "ename": "NameError",
     "evalue": "name 'ccrs' is not defined",
     "output_type": "error",
     "traceback": [
      "\u001b[0;31m\u001b[0m",
      "\u001b[0;31mNameError\u001b[0mTraceback (most recent call last)",
      "\u001b[0;32m<ipython-input-8-ac1921ff424e>\u001b[0m in \u001b[0;36m<module>\u001b[0;34m\u001b[0m\n\u001b[0;32m----> 1\u001b[0;31m \u001b[0mstorm\u001b[0m\u001b[0;34m.\u001b[0m\u001b[0mplot\u001b[0m\u001b[0;34m(\u001b[0m\u001b[0mreturn_ax\u001b[0m\u001b[0;34m=\u001b[0m\u001b[0;32mTrue\u001b[0m\u001b[0;34m)\u001b[0m\u001b[0;34m\u001b[0m\u001b[0;34m\u001b[0m\u001b[0m\n\u001b[0m",
      "\u001b[0;32m/opt/conda/lib/python3.8/site-packages/tropycal-0.2.4-py3.8.egg/tropycal/tracks/storm.py\u001b[0m in \u001b[0;36mplot\u001b[0;34m(self, domain, plot_all, ax, return_ax, cartopy_proj, save_path, prop, map_prop)\u001b[0m\n\u001b[1;32m    346\u001b[0m                 \u001b[0mself\u001b[0m\u001b[0;34m.\u001b[0m\u001b[0mplot_obj\u001b[0m\u001b[0;34m.\u001b[0m\u001b[0mcreate_cartopy\u001b[0m\u001b[0;34m(\u001b[0m\u001b[0mproj\u001b[0m\u001b[0;34m=\u001b[0m\u001b[0;34m'PlateCarree'\u001b[0m\u001b[0;34m,\u001b[0m\u001b[0mcentral_longitude\u001b[0m\u001b[0;34m=\u001b[0m\u001b[0;36m180.0\u001b[0m\u001b[0;34m)\u001b[0m\u001b[0;34m\u001b[0m\u001b[0;34m\u001b[0m\u001b[0m\n\u001b[1;32m    347\u001b[0m             \u001b[0;32melse\u001b[0m\u001b[0;34m:\u001b[0m\u001b[0;34m\u001b[0m\u001b[0;34m\u001b[0m\u001b[0m\n\u001b[0;32m--> 348\u001b[0;31m                 \u001b[0mself\u001b[0m\u001b[0;34m.\u001b[0m\u001b[0mplot_obj\u001b[0m\u001b[0;34m.\u001b[0m\u001b[0mcreate_cartopy\u001b[0m\u001b[0;34m(\u001b[0m\u001b[0mproj\u001b[0m\u001b[0;34m=\u001b[0m\u001b[0;34m'PlateCarree'\u001b[0m\u001b[0;34m,\u001b[0m\u001b[0mcentral_longitude\u001b[0m\u001b[0;34m=\u001b[0m\u001b[0;36m0.0\u001b[0m\u001b[0;34m)\u001b[0m\u001b[0;34m\u001b[0m\u001b[0;34m\u001b[0m\u001b[0m\n\u001b[0m\u001b[1;32m    349\u001b[0m         \u001b[0;32melse\u001b[0m\u001b[0;34m:\u001b[0m\u001b[0;34m\u001b[0m\u001b[0;34m\u001b[0m\u001b[0m\n\u001b[1;32m    350\u001b[0m             \u001b[0mself\u001b[0m\u001b[0;34m.\u001b[0m\u001b[0mplot_obj\u001b[0m\u001b[0;34m.\u001b[0m\u001b[0mproj\u001b[0m \u001b[0;34m=\u001b[0m \u001b[0mcartopy_proj\u001b[0m\u001b[0;34m\u001b[0m\u001b[0;34m\u001b[0m\u001b[0m\n",
      "\u001b[0;32m/opt/conda/lib/python3.8/site-packages/tropycal-0.2.4-py3.8.egg/tropycal/plot/plot.py\u001b[0m in \u001b[0;36mcreate_cartopy\u001b[0;34m(self, proj, mapobj, **kwargs)\u001b[0m\n\u001b[1;32m     69\u001b[0m         \u001b[0;31m#Initialize an instance of cartopy if not passed\u001b[0m\u001b[0;34m\u001b[0m\u001b[0;34m\u001b[0m\u001b[0;34m\u001b[0m\u001b[0m\n\u001b[1;32m     70\u001b[0m         \u001b[0;32mif\u001b[0m \u001b[0mmapobj\u001b[0m \u001b[0;34m==\u001b[0m \u001b[0;32mNone\u001b[0m\u001b[0;34m:\u001b[0m\u001b[0;34m\u001b[0m\u001b[0;34m\u001b[0m\u001b[0m\n\u001b[0;32m---> 71\u001b[0;31m             \u001b[0mself\u001b[0m\u001b[0;34m.\u001b[0m\u001b[0mproj\u001b[0m \u001b[0;34m=\u001b[0m \u001b[0mgetattr\u001b[0m\u001b[0;34m(\u001b[0m\u001b[0mccrs\u001b[0m\u001b[0;34m,\u001b[0m \u001b[0mproj\u001b[0m\u001b[0;34m)\u001b[0m\u001b[0;34m(\u001b[0m\u001b[0;34m**\u001b[0m\u001b[0mkwargs\u001b[0m\u001b[0;34m)\u001b[0m\u001b[0;34m\u001b[0m\u001b[0;34m\u001b[0m\u001b[0m\n\u001b[0m\u001b[1;32m     72\u001b[0m         \u001b[0;32melse\u001b[0m\u001b[0;34m:\u001b[0m\u001b[0;34m\u001b[0m\u001b[0;34m\u001b[0m\u001b[0m\n\u001b[1;32m     73\u001b[0m             \u001b[0mself\u001b[0m\u001b[0;34m.\u001b[0m\u001b[0mproj\u001b[0m \u001b[0;34m=\u001b[0m \u001b[0mmapobj\u001b[0m\u001b[0;34m\u001b[0m\u001b[0;34m\u001b[0m\u001b[0m\n",
      "\u001b[0;31mNameError\u001b[0m: name 'ccrs' is not defined"
     ]
    }
   ],
   "source": [
    "storm.plot(return_ax=True)"
   ]
  },
  {
   "cell_type": "markdown",
   "metadata": {},
   "source": [
    "Plot the tornado tracks associated with Michael, along with the accompanying daily practically perfect forecast (PPH):\n",
    "\n",
    "Note: There is currently a bug with this function that outputs 2 axes, a filled one and a blank one. This will be fixed in future updates.\n",
    "\n"
   ]
  },
  {
   "cell_type": "code",
   "execution_count": null,
   "metadata": {},
   "outputs": [],
   "source": [
    "storm.plot_tors(plotPPH=True)"
   ]
  },
  {
   "cell_type": "markdown",
   "metadata": {},
   "source": [
    "If this storm was ever in NHC's area of responsibility, you can retrieve operational NHC forecast data for this event provided it is available. Forecast discussions date back to 1992, and forecast tracks date back to 1954.\n",
    "\n",
    "Retrieve a single forecast discussion for Michael:\n",
    "\n"
   ]
  },
  {
   "cell_type": "code",
   "execution_count": null,
   "metadata": {},
   "outputs": [],
   "source": [
    "#Method 1: Specify date closest to desired discussion\n",
    "disco = storm.get_nhc_discussion(forecast=dt.datetime(2018,10,7,0))\n",
    "print(disco['text'])\n",
    "\n",
    "#Method 2: Specify forecast discussion ID\n",
    "disco = storm.get_nhc_discussion(forecast=2)\n",
    "#print(disco['text']) printing this would show the same output"
   ]
  },
  {
   "cell_type": "markdown",
   "metadata": {},
   "source": [
    "NHC also archives forecast tracks, albeit in a different format than the official advisory data, so the operational forecast IDs here differ from the discussion IDs. As such, the forecast cone is not directly retrieved from NHC, but is generated using an algorithm that yields a cone closely resembling the official NHC cone.\n",
    "\n",
    "Let's plot Michael's second forecast cone:\n",
    "\n"
   ]
  },
  {
   "cell_type": "code",
   "execution_count": null,
   "metadata": {},
   "outputs": [],
   "source": [
    "storm.plot_nhc_forecast(forecast=2,return_ax=True)"
   ]
  },
  {
   "cell_type": "markdown",
   "metadata": {},
   "source": [
    "Now let's look at the 12th forecast for Michael.\n",
    "\n",
    "Note that the observed track here differs from the HURDAT2 track plotted previously! This is because this plot displays the operationally analyzed location and intensity, rather than the post-storm analysis data. This is done to account for differences between HURDAT2 and operational data.\n",
    "\n"
   ]
  },
  {
   "cell_type": "code",
   "execution_count": null,
   "metadata": {},
   "outputs": [],
   "source": [
    "storm.plot_nhc_forecast(forecast=12,return_ax=True)"
   ]
  },
  {
   "cell_type": "markdown",
   "metadata": {},
   "source": [
    "## IBTrACS Dataset\n",
    "\n",
    "We can also read in IBTrACS data and use it the same way as we would use HURDAT2 data. There are caveats to using IBTrACS data, however, which are described more in depth in the :doc:`../data` page. We'll retrieve the global IBTrACS dataset, using the Joint Typhoon Warning Center (JTWC) data, modified with the Neumann reanalysis for southern hemisphere storms, and including a special reanalysis for Cyclone Catarina (2004) in Brazil.\n",
    "\n",
    "<div class=\"alert alert-danger\"><h4>Warning</h4><p>By default, IBTrACS data is read in from an online source. If you're reading in the global IBTrACS dataset, this could be quite slow.  For global IBTrACS, it is recommended to have the CSV file saved locally (`link to data`_), then set the flag ``ibtracs_url=\"local_path\"``.</p></div>\n",
    "\n",
    "\n"
   ]
  },
  {
   "cell_type": "code",
   "execution_count": null,
   "metadata": {},
   "outputs": [],
   "source": [
    "ibtracs = tracks.TrackDataset(basin='all',source='ibtracs',ibtracs_mode='jtwc_neumann',catarina=True)"
   ]
  },
  {
   "cell_type": "markdown",
   "metadata": {},
   "source": [
    "The functionality for handling storms in IBTrACS is the same as with using HURDAT2, the only limitation being no NHC and operational model data can be accessed when using IBTrACS as the data source.\n",
    "\n",
    "`Super Typhoon Haiyan`_ (2013) was a catastrophic storm in the West Pacific basin, having made landfall in the Philippines. With estimated sustained winds of 195 mph (170 kt), it is among one of the most powerful tropical cyclones in recorded history. We can illustrate this by making a plot of Haiyan's observed track and intensity, from JTWC data:\n",
    "\n",
    "\n"
   ]
  },
  {
   "cell_type": "code",
   "execution_count": null,
   "metadata": {},
   "outputs": [],
   "source": [
    "storm = ibtracs.get_storm(('haiyan',2013))\n",
    "storm.plot(return_ax=True)"
   ]
  },
  {
   "cell_type": "markdown",
   "metadata": {},
   "source": [
    "`Cyclone Catarina`_ (2004) was an extremely rare hurricane-force tropical cyclone that developed in the South Atlantic basin, which normally doesn't see tropical cyclone activity, and subsequently made landfall in Brazil. The \"Catarina\" name is unofficial; it was not assigned a name in real time, and JTWC assigned it the ID \"AL502004\". Recall that when reading in the IBTrACS dataset previously, we set ``Catarina=True``. This read in data for Cyclone Catarina from a special post-storm reanalysis from McTaggart-Cowan et al. (2006). Let's make a plot of Catarina's observed track and intensity per this reanalysis:\n",
    "\n",
    "\n"
   ]
  },
  {
   "cell_type": "code",
   "execution_count": null,
   "metadata": {},
   "outputs": [],
   "source": [
    "storm = ibtracs.get_storm(('catarina',2004))\n",
    "storm.plot(return_ax=True)"
   ]
  },
  {
   "cell_type": "markdown",
   "metadata": {},
   "source": [
    "If we were to read in IBTrACS without setting ``Catarina=True`` (which sets it to False by default) and plot the track for \"AL502004\", we would get a noticeably different (shorter) and weaker track.\n",
    "\n"
   ]
  }
 ],
 "metadata": {
  "kernelspec": {
   "display_name": "Python 3",
   "language": "python",
   "name": "python3"
  },
  "language_info": {
   "codemirror_mode": {
    "name": "ipython",
    "version": 3
   },
   "file_extension": ".py",
   "mimetype": "text/x-python",
   "name": "python",
   "nbconvert_exporter": "python",
   "pygments_lexer": "ipython3",
   "version": "3.8.5"
  }
 },
 "nbformat": 4,
 "nbformat_minor": 1
}

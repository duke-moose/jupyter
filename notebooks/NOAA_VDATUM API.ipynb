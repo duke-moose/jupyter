{
 "cells": [
  {
   "cell_type": "code",
   "execution_count": 1,
   "metadata": {},
   "outputs": [
    {
     "name": "stdout",
     "output_type": "stream",
     "text": [
      "<Response [200]>\n"
     ]
    },
    {
     "data": {
      "text/plain": [
       "{'src_horizontal_frame': 'NAD83',\n",
       " 'src_vertical_frame': 'NAVD88',\n",
       " 'src_vertical_unit': 'us_ft',\n",
       " 'src_vertical_geoid': 'geoid12b',\n",
       " 'src_lon': '-92.65666666666667',\n",
       " 'src_lat': '29.768333333333334',\n",
       " 'src_height': '0.0',\n",
       " 'tar_horizontal_frame': 'NAD83',\n",
       " 'tar_vertical_frame': 'MLLW',\n",
       " 'tar_vertical_unit': 'us_ft',\n",
       " 'tar_vertical_geoid': 'geoid12b',\n",
       " 'tar_lon': '-92.6566667',\n",
       " 'tar_lat': '29.7683333',\n",
       " 'tar_height': '-999999'}"
      ]
     },
     "execution_count": 1,
     "metadata": {},
     "output_type": "execute_result"
    }
   ],
   "source": [
    "# This workbook uses NOAA VDATUM API to convert points\n",
    "\n",
    "import json\n",
    "import requests\n",
    "\n",
    "#API Reference: https://vdatum.noaa.gov/docs/services.html\n",
    "\n",
    "#Calcasieu Pass NOAA Tide Guage\n",
    "\n",
    "api_url_base = 'https://vdatum.noaa.gov/vdatumweb/api/tidal'\n",
    "\n",
    "#NOAA station ref: https://tidesandcurrents.noaa.gov/stationhome.html?id=8768094\n",
    "lat=29+46.1/60\n",
    "long=-93+20.6/60\n",
    "horz_datum='NAD83' #NAD27, NAD83_1986, NAD83, NAD83_MARP00, NAD83_PACP00, WGS84_G1674, ITRF2008, IGS08, ITRF2005, IGS2005, WGS84_G1150, ITRF2000, IGS00, IGb00, ITRF96, WGS84_G873, ITRF94, ITRF93, ITRF92, SIOMIT92, WGS84_G730, ITRF91, ITRF90, ITRF89, ITRF88, WGS84_TRANSIT, WGS84_G1762\n",
    "\n",
    "#Input (source)\n",
    "src_elev=0.0\n",
    "src_datum='NAVD88' #NAVD88, NGVD29, ASVD02, W0_USGG2012, GUVD04, NMVD03, PRVD02, VIVD09, EGM2008, EGM1996, EGM1984, XGEOID16B, XGEOID17B, IGLD85, LWD_IGLD85, LMSL, MLLW, MLW, MTL, DTL, MHW, MHHW, LWD, NAD27, NAD83_1986, NAD83, NAD83_MARP00, NAD83_PACP00, WGS84_G1674, ITRF2008, IGS08, ITRF2005, IGS2005, WGS84_G1150, ITRF2000, IGS00, IGb00, ITRF96, WGS84_G873, ITRF94, ITRF93, ITRF92, SIOMIT92, WGS84_G730, ITRF91, ITRF90, ITRF89, ITRF88, WGS84_TRANSIT, WGS84_G1762\n",
    "src_geoid='geoid12b' #['geoid12a', 'geoid09', 'geoid06', 'geoid03', 'geoid99', 'geoid96', 'egm2008', 'egm1996', 'egm1984', 'xgeoid16b', 'xgeoid17b']\n",
    "src_unit='us_ft' #m, ft, us_ft\n",
    "\n",
    "#Output (target)\n",
    "tar_datum='MLLW' # LMSL, MLLW, MLW, MTL, DTL, MHW, MHHW, LWD, or NAVD88, or NAD83\n",
    "tar_unit='us_ft' #m, ft, us_ft\n",
    "\n",
    "parameters = {\"lat\": lat , \n",
    "              \"lon\": long, \n",
    "              \"s_h_frame\": horz_datum, \n",
    "              \"height\": src_elev, \n",
    "              \"s_v_frame\": src_datum, \n",
    "              \"s_v_unit\": src_unit, \n",
    "              \"s_v_geoid\": src_geoid, \n",
    "              \"t_v_frame\": tar_datum, \n",
    "              \"t_v_unit\": tar_unit\n",
    "             }\n",
    "response = requests.get(api_url_base, params=parameters)\n",
    "\n",
    "def noaa_api():\n",
    "    if response.status_code == 200:\n",
    "        return json.loads(response.content.decode('utf-8'))\n",
    "    else:\n",
    "        return response.status_code\n",
    "\n",
    "noaa_api()\n"
   ]
  }
 ],
 "metadata": {
  "kernelspec": {
   "display_name": "Python 3",
   "language": "python",
   "name": "python3"
  },
  "language_info": {
   "codemirror_mode": {
    "name": "ipython",
    "version": 3
   },
   "file_extension": ".py",
   "mimetype": "text/x-python",
   "name": "python",
   "nbconvert_exporter": "python",
   "pygments_lexer": "ipython3",
   "version": "3.6.8"
  }
 },
 "nbformat": 4,
 "nbformat_minor": 2
}

{
 "cells": [
  {
   "cell_type": "code",
   "execution_count": null,
   "metadata": {},
   "outputs": [],
   "source": [
    "# Workbook to Check Dispersion Relation Calculation"
   ]
  },
  {
   "cell_type": "code",
   "execution_count": 3,
   "metadata": {},
   "outputs": [],
   "source": [
    "d = (5-0.21)/3.28\n",
    "g = 9.81\n",
    "Tp = 3.6"
   ]
  },
  {
   "cell_type": "code",
   "execution_count": 4,
   "metadata": {},
   "outputs": [
    {
     "name": "stdout",
     "output_type": "stream",
     "text": [
      "0.4989978556054754\n"
     ]
    }
   ],
   "source": [
    "from math import pi, sqrt, tanh #Import standard math functions.\n",
    "import pandas as pd #Import dataframe manipulation to store results. This is a spreadsheet type tool.\n",
    "\n",
    "# Define functions for various wavelength calculations\n",
    "def deep_water_Lp(d, g, Tp):\n",
    "    return (g*Tp**2/(2*pi))\n",
    "\n",
    "def shallow_water_Lp(d, g, Tp):\n",
    "    return Tp*sqrt(g*d)\n",
    "\n",
    "def transitional_water_Lp(d, g, Tp):\n",
    "    Lp = 1 # Define initial L for iterative calculation.\n",
    "    guess_Lp = 2 # Guess second L to start iteration\n",
    "    while abs((Lp-guess_Lp)/Lp) > 0.000001:\n",
    "        guess_Lp = Lp\n",
    "        Lp = (g*Tp**2)/(2*pi)*tanh(2*pi*d/guess_Lp)\n",
    "    return Lp\n",
    "\n",
    "Lp = transitional_water_Lp(d, g, Tp)     \n",
    "\n",
    "k=2*pi/Lp\n",
    "print(k)"
   ]
  },
  {
   "cell_type": "code",
   "execution_count": null,
   "metadata": {},
   "outputs": [],
   "source": []
  }
 ],
 "metadata": {
  "kernelspec": {
   "display_name": "Python 3",
   "language": "python",
   "name": "python3"
  },
  "language_info": {
   "codemirror_mode": {
    "name": "ipython",
    "version": 3
   },
   "file_extension": ".py",
   "mimetype": "text/x-python",
   "name": "python",
   "nbconvert_exporter": "python",
   "pygments_lexer": "ipython3",
   "version": "3.6.5"
  }
 },
 "nbformat": 4,
 "nbformat_minor": 2
}

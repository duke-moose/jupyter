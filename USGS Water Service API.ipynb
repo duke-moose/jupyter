{
 "cells": [
  {
   "cell_type": "markdown",
   "metadata": {},
   "source": [
    "Develop this so that you can call USGS.IV(guage_number, start_date, end_date) to get results.\n",
    "1. Can set lat and long coordinates to grab all water gauges in an area. Collect all data, save and json&txt.\n",
    "2. Check USGS, NOAA, USACE, and National Weather Service\n",
    "https://water.weather.gov/ahps2/hydrograph.php?wfo=lix&gage=bbsl1\n",
    "https://waterdata.usgs.gov/nwis/inventory/?site_no=07374578\n",
    "Noaa tides and currents\n",
    "2. check that results exist.\n",
    "3. Save as json and txt.\n"
   ]
  },
  {
   "cell_type": "markdown",
   "metadata": {},
   "source": [
    "# Scrape USGS Water Level Gauge API\n",
    "\n",
    "Available APIs: https://waterservices.usgs.gov/rest/\n",
    "\n",
    "Map to USGS Water Level Gauges:\n",
    "https://maps.waterdata.usgs.gov/mapper/index.html\n",
    "\n",
    "Gauge Elevation statement: https://waterdata.usgs.gov/wa/nwis/current/?type=datum\n",
    "\n",
    "\n",
    "\n",
    "## Description\n",
    "In this notebook the user defines USGS stations to access for instantaneous or daily value water information. The result is a directory of TXT files with the requested information."
   ]
  },
  {
   "cell_type": "code",
   "execution_count": 5,
   "metadata": {},
   "outputs": [],
   "source": [
    "import requests\n",
    "import os\n",
    "# Function to build API url. \n",
    "\n",
    "def check_dir(dir_path):\n",
    "    # Check that file was created.\n",
    "    if not os.path.exists(dir_path):\n",
    "        print(dir_path)\n",
    "        os.mkdir(dir_path)\n",
    "        print(\"Directory did not exist and was created\")\n",
    "\n",
    "def build_gauge(website_url, Gauge):\n",
    "    response = requests.get(website_url, params=Gauge)\n",
    "    if response.status_code == 200:\n",
    "        output = response.content.decode('utf-8')\n",
    "        return output\n",
    "    else:\n",
    "        return response.status_code\n",
    "    \n",
    "def save_gauge(website_url, save_loc, Gauge, file_name):\n",
    "    check_dir(save_loc)    \n",
    "    file_path = os.path.join(save_loc, file_name)\n",
    "    \n",
    "    with open(file_path, 'w') as infile:\n",
    "        infile.write(build_gauge(website_url, Gauge))\n",
    "    return file_path"
   ]
  },
  {
   "cell_type": "markdown",
   "metadata": {},
   "source": [
    "# Build Dictionary of Gauges\n",
    "*Note: One gauge per cell*"
   ]
  },
  {
   "cell_type": "code",
   "execution_count": 6,
   "metadata": {},
   "outputs": [],
   "source": [
    "Gauges = {}\n",
    "\n",
    "# Set output defaults, can be adjusted for each gauge as necessary\n",
    "agency = 'USGS'\n",
    "start_date = '2018-01-01'\n",
    "end_date = '2018-12-31'\n",
    "fmt = 'json' # [rdb, json]\n",
    "file_ext = '.json' # [.txt, .json]\n",
    "\n",
    "# Gauge 1\n",
    "gauge_key = 'Calcasieu River at Cameron Gauge'\n",
    "\n",
    "gauge = {\n",
    "    'site': '08017118', # Calcasieu River at Cameron Gauge\n",
    "    'agencyCd': agency,\n",
    "    'startDT': start_date,\n",
    "    'endDT': end_date,\n",
    "    'format': fmt, # Tab delimited format    \n",
    "}\n",
    "\n",
    "# Desired output type [(y)es or (n)o]\n",
    "output = {'iv': 'y',\n",
    "          'peak': 'y',\n",
    "          'dv': 'y'}\n",
    "\n",
    "Gauges[gauge_key]=[gauge, output]"
   ]
  },
  {
   "cell_type": "code",
   "execution_count": 10,
   "metadata": {},
   "outputs": [],
   "source": [
    "# Gauge 2\n",
    "gauge_key = 'Calcasieu River at Hackberry'\n",
    "\n",
    "gauge = {\n",
    "    'site': '08017095', # Calcasieu River at Cameron Gauge\n",
    "    'agencyCd': agency,\n",
    "    'startDT': start_date,\n",
    "    'endDT': end_date,\n",
    "    'format': fmt, # Tab delimited format    \n",
    "}\n",
    "\n",
    "# Desired output type [(y)es or (n)o]\n",
    "output = {'iv': 'y',\n",
    "          'peak': 'y',\n",
    "          'dv': 'y'}\n",
    "\n",
    "Gauges[gauge_key]=[gauge, output]"
   ]
  },
  {
   "cell_type": "code",
   "execution_count": 11,
   "metadata": {},
   "outputs": [],
   "source": [
    "# Gauge 3\n",
    "gauge_key = 'Bayou Bonfouca'\n",
    "\n",
    "gauge = {\n",
    "    'site': '07374578', # Calcasieu River at Cameron Gauge\n",
    "    'agencyCd': agency,\n",
    "    'startDT': start_date,\n",
    "    'endDT': end_date,\n",
    "    'format': fmt, # Tab delimited format    \n",
    "}\n",
    "\n",
    "# Desired output type [(y)es or (n)o]\n",
    "output = {'iv': 'y',\n",
    "          'peak': 'y',\n",
    "          'dv': 'y'}\n",
    "\n",
    "Gauges[gauge_key]=[gauge, output]"
   ]
  },
  {
   "cell_type": "code",
   "execution_count": 14,
   "metadata": {},
   "outputs": [
    {
     "name": "stdout",
     "output_type": "stream",
     "text": [
      "Calcasieu River at Cameron Gauge\n",
      "400\n",
      "Calcasieu River at Hackberry\n",
      "400\n",
      "Bayou Bonfouca\n",
      "400\n"
     ]
    }
   ],
   "source": [
    "\"\"\"# Check Gauge has valid results\n",
    "\n",
    "check_url = 'https://waterservices.usgs.gov/nwis/iv/?'\n",
    "    \n",
    "for gauge in Gauges:\n",
    "    check = build_gauge(check_url, gauge)\n",
    "    print(check)\"\"\""
   ]
  },
  {
   "cell_type": "markdown",
   "metadata": {},
   "source": [
    "# Instantaneous Values (IV) Web Service\n",
    "Acquire near real-time water data. Readers are usually made very 15 minutes and transmitted hourly. First date available, typically, October 1, 2007.\n",
    "\n",
    "Note: Certain operation data are retricted to total time-frame of 120 days."
   ]
  },
  {
   "cell_type": "code",
   "execution_count": 15,
   "metadata": {},
   "outputs": [],
   "source": [
    "iv_url = \"http://waterservices.usgs.gov/nwis/iv/?\"\n",
    "\n",
    "for gauge in Gauges:\n",
    "    save_loc = os.path.join(os.getcwd(), \"iv\")\n",
    "    iv_save_file = gauge +'_iv' + file_ext \n",
    "    \n",
    "    if Gauges[gauge][1]['iv'].lower() == 'y':      \n",
    "        save_gauge(iv_url, save_loc, Gauges[gauge][0], iv_save_file)\n",
    "    elif Gauges[gauge][1]['iv'].lower() != 'n':\n",
    "        print(\"'Check that input for variable output['iv'] \\\n",
    "        is 'y' or 'n'\")"
   ]
  },
  {
   "cell_type": "markdown",
   "metadata": {},
   "source": [
    "# Daily Values (DV) Web Service\n",
    "Daily maximum, minimu, and mean values for each gauge recording."
   ]
  },
  {
   "cell_type": "code",
   "execution_count": 5,
   "metadata": {},
   "outputs": [],
   "source": [
    "dv_url = \"http://waterservices.usgs.gov/nwis/dv/?\"\n",
    "\n",
    "for gauge in Gauges:\n",
    "    save_loc = os.path.join(os.getcwd(), \"dv\")\n",
    "    dv_save_file = gauge +'_dv' + file_ext\n",
    "    \n",
    "    if Gauges[gauge][1]['dv'].lower() == 'y':\n",
    "        save_gauge(dv_url, save_loc, Gauges[gauge][0], dv_save_file)\n",
    "    elif Gauges[gauge][1]['dv'].lower() != 'n':\n",
    "        print(\"'Check that input for variable output['dv'] \\\n",
    "        is 'y' or 'n'\")"
   ]
  }
 ],
 "metadata": {
  "kernelspec": {
   "display_name": "Python 3",
   "language": "python",
   "name": "python3"
  },
  "language_info": {
   "codemirror_mode": {
    "name": "ipython",
    "version": 3
   },
   "file_extension": ".py",
   "mimetype": "text/x-python",
   "name": "python",
   "nbconvert_exporter": "python",
   "pygments_lexer": "ipython3",
   "version": "3.6.8"
  }
 },
 "nbformat": 4,
 "nbformat_minor": 2
}

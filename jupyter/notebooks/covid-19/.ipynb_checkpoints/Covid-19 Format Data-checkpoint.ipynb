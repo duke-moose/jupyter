{
 "cells": [
  {
   "cell_type": "code",
   "execution_count": null,
   "metadata": {},
   "outputs": [],
   "source": [
    "import pandas as pd\n",
    "import numpy as np\n",
    "import matplotlib.pyplot as plt\n",
    "import datetime as dt"
   ]
  },
  {
   "cell_type": "code",
   "execution_count": null,
   "metadata": {},
   "outputs": [],
   "source": [
    "# Fork this github repository, save in csv folder, setup automatic download.\n",
    "\n",
    "'03-29-2020'\n",
    "url = 'https://raw.githubusercontent.com/CSSEGISandData/COVID-19/master/csse_covid_19_data/csse_covid_19_daily_reports/03-29-2020.csv'\n",
    "\n",
    "covid = pd.read_csv(url)"
   ]
  },
  {
   "cell_type": "code",
   "execution_count": null,
   "metadata": {},
   "outputs": [],
   "source": [
    "# covid.head()\n",
    "covid_US = covid[covid.Country_Region == 'US']"
   ]
  },
  {
   "cell_type": "code",
   "execution_count": null,
   "metadata": {},
   "outputs": [],
   "source": [
    "covid_US.head()"
   ]
  },
  {
   "cell_type": "code",
   "execution_count": null,
   "metadata": {},
   "outputs": [],
   "source": [
    "# Quick check for Louisiana Data if needed.\n",
    "covid_LA = covid_US[covid_US.Province_State == 'Louisiana']\n",
    "covid_LA.Confirmed.sum(), covid_LA.Deaths.sum(), covid_LA.Recovered.sum(), covid_LA.Active.sum()"
   ]
  },
  {
   "cell_type": "code",
   "execution_count": null,
   "metadata": {},
   "outputs": [],
   "source": [
    "def covid_sum(df):\n",
    "    confirmed = df.Confirmed.sum()\n",
    "    deaths = df.Deaths.sum()\n",
    "    recovered = df.Recovered.sum()\n",
    "    active = df.Active.sum()\n",
    "    return confirmed, deaths, recovered, active\n",
    "\n",
    "def make_covid_dict(df_covid):  \n",
    "    covid_dict = {}\n",
    "    \n",
    "    # Figure out date\n",
    "    date_update = df_covid.Last_Update[1] # Should only be one date per CSV.\n",
    "    new_date = dt.datetime.strptime(date_update,'%Y-%m-%d %H:%M:%S').date()\n",
    "    str_date = new_date.strftime('%m/%d/%y')\n",
    "    \n",
    "    # Make list of unique countries in df.\n",
    "    list_of_countries = df_covid.Country_Region.unique()\n",
    "    \n",
    "    # Stats by country.\n",
    "    for country in list_of_countries:\n",
    "        df_country = df_covid[df_covid.Country_Region == country]\n",
    "        c_confirmed, c_deaths, c_recovered, c_active = covid_sum(df_country)\n",
    "        \n",
    "        dict_country_total = {\n",
    "            'Confirmed': int(c_confirmed),\n",
    "            'Deaths': int(c_deaths),\n",
    "            'Recovered': int(c_recovered),\n",
    "            'Active': int(c_active), \n",
    "        }\n",
    "        \n",
    "        # Make list of unique provinces or states by country in df.\n",
    "        list_of_prov_states = df_country.Province_State.unique()\n",
    "\n",
    "        # Stats by province or state\n",
    "        dict_prov_state = {}\n",
    "        for prov_state in list_of_prov_states:\n",
    "            df_prov_state = df_country[df_country.Province_State == prov_state]\n",
    "            ps_confirmed, ps_deaths, ps_recovered, ps_active = covid_sum(df_prov_state)\n",
    "            \n",
    "            dict_prov_state[prov_state] = {\n",
    "                'Confirmed': int(ps_confirmed),\n",
    "                'Deaths': int(ps_deaths),\n",
    "                'Recovered': int(ps_recovered),\n",
    "                'Active': int(ps_active),\n",
    "            }\n",
    "        \n",
    "        covid_dict[country] = {\n",
    "            'Total': dict_country_total, \n",
    "            'Providence_State': dict_prov_state\n",
    "        }\n",
    "        \n",
    "    return covid_dict\n",
    "\n",
    "dict_test = make_covid_dict(covid)\n",
    "dict_test['US']['Providence_State']['Louisiana']"
   ]
  },
  {
   "cell_type": "code",
   "execution_count": null,
   "metadata": {},
   "outputs": [],
   "source": [
    "covid.Confirmed.sum(), covid.Deaths.sum()"
   ]
  },
  {
   "cell_type": "code",
   "execution_count": null,
   "metadata": {},
   "outputs": [],
   "source": [
    "# import json\n",
    "\n",
    "# with open('test.json', 'w') as json_file:\n",
    "#     json.dump(dict_test, json_file)\n",
    "    \n",
    "# with open('test.json', 'r') as json_file:\n",
    "#     a = json.load(json_file)\n",
    "    \n",
    "# type(a), type(dict_test)\n",
    "# print(a == dict_test)"
   ]
  },
  {
   "cell_type": "code",
   "execution_count": null,
   "metadata": {
    "scrolled": true
   },
   "outputs": [],
   "source": [
    "dict_test['US']"
   ]
  },
  {
   "cell_type": "code",
   "execution_count": null,
   "metadata": {},
   "outputs": [],
   "source": []
  }
 ],
 "metadata": {
  "kernelspec": {
   "display_name": "Python 3",
   "language": "python",
   "name": "python3"
  },
  "language_info": {
   "codemirror_mode": {
    "name": "ipython",
    "version": 3
   },
   "file_extension": ".py",
   "mimetype": "text/x-python",
   "name": "python",
   "nbconvert_exporter": "python",
   "pygments_lexer": "ipython3",
   "version": "3.6.9"
  }
 },
 "nbformat": 4,
 "nbformat_minor": 2
}
